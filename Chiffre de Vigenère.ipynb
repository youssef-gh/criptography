{
 "cells": [
  {
   "cell_type": "markdown",
   "metadata": {},
   "source": [
    "# Vigenère"
   ]
  },
  {
   "cell_type": "code",
   "execution_count": 1,
   "metadata": {},
   "outputs": [],
   "source": [
    "def vigenere(text, key, type='decrypt'):\n",
    "    characters = [c for c in (chr(i) for i in range(32,127))] # 32 - 127 sont tous les characteres visibles\n",
    "    char_len = len(characters)\n",
    "\n",
    "    if type not in ('decrypt', 'encrypt'):\n",
    "        print('type doit être \"decrypt\" ou \"encrypt\".')\n",
    "        return\n",
    "    if any(t not in characters for t in key):\n",
    "        print('caracteres invalides dans Clef. Il doit être symboles.')\n",
    "        return\n",
    "    if any(t not in characters for t in text ):\n",
    "        print('caracteres invalides dans texte. Il doit être symboles.')\n",
    "        return\n",
    "\n",
    "    ret_text = '' # texte retourné\n",
    "    k_len = len(key) # logneur de key\n",
    "\n",
    "    for i, l in enumerate(text):\n",
    "        # l'indice de l'alphabet qu'on va crypter ou decrypter\n",
    "        text_idx = characters.index(l)\n",
    "        # i % k_len :  index de cet alphabet clef par ex {1,5,6,9} i % k_len soit 0, 1, 2 ou 3 et key[i % k_len]  soit 1,5,6, our 9 \n",
    "        k = key[i % k_len] \n",
    "        # le nombre qu'on va ajouter au char de texte correspondant\n",
    "        key_idx = characters.index(k)\n",
    "        if type == 'decrypt':\n",
    "            # en cas au decryptage on va soustraire ce nombre \n",
    "            key_idx *= -1\n",
    "        # cryptage en cas key_idx >= 0 decryptage sinon\n",
    "        code = characters[(text_idx + key_idx) % char_len]\n",
    "\n",
    "        ret_text += code\n",
    "\n",
    "    return ret_text"
   ]
  },
  {
   "cell_type": "markdown",
   "metadata": {},
   "source": [
    "# Test du chiffrement de vigenère "
   ]
  },
  {
   "cell_type": "code",
   "execution_count": 2,
   "metadata": {},
   "outputs": [
    {
     "name": "stdout",
     "output_type": "stream",
     "text": [
      "Message chiffré:   94741=!(&=(+4\n",
      "Message déchiffré: ensakhouribga\n"
     ]
    }
   ],
   "source": [
    "encrypt = vigenere('ensakhouribga', \"SECRET123\", 'encrypt')\n",
    "decrypt = vigenere(encrypt, \"SECRET123\", 'decrypt')\n",
    "print(\"Message chiffré:   \" + encrypt)\n",
    "print(\"Message déchiffré: \" + decrypt)"
   ]
  }
 ],
 "metadata": {
  "kernelspec": {
   "display_name": "Python 3",
   "language": "python",
   "name": "python3"
  },
  "language_info": {
   "codemirror_mode": {
    "name": "ipython",
    "version": 3
   },
   "file_extension": ".py",
   "mimetype": "text/x-python",
   "name": "python",
   "nbconvert_exporter": "python",
   "pygments_lexer": "ipython3",
   "version": "3.8.5"
  }
 },
 "nbformat": 4,
 "nbformat_minor": 5
}

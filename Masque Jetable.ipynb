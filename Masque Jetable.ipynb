{
 "cells": [
  {
   "cell_type": "markdown",
   "metadata": {},
   "source": [
    "# Masque Jetable"
   ]
  },
  {
   "cell_type": "code",
   "execution_count": 1,
   "metadata": {},
   "outputs": [],
   "source": [
    "def vernam_chiffrement(message, cle, type = 'encrypt'):\n",
    "    if(len(cle) < len(message)):\n",
    "        raise Exception('La cle doit etre au moins aussi longue que le message a chiffrer.')\n",
    "\n",
    "    lettres = 'abcdefghijklmnopqrstuvwxyz'\n",
    "    message_chiffre = \"\"\n",
    "    p = 0\n",
    "\n",
    "    for char in message:\n",
    "        int_char_message = lettres.index(char)\n",
    "        int_char_cle = lettres.index(cle[p])\n",
    "        if type == 'encrypt':\n",
    "            int_char_chif = int((int_char_message + int_char_cle) % 26)  \n",
    "        elif type == 'decrypt':\n",
    "            int_char_chif = int((int_char_message - int_char_cle) % 26)  \n",
    "        message_chiffre += lettres[int_char_chif]\n",
    "        p += 1\n",
    "        p = p % len(cle)\n",
    "\n",
    "    return message_chiffre"
   ]
  },
  {
   "cell_type": "markdown",
   "metadata": {},
   "source": [
    "# Test du chiffrement du Masque Jetable"
   ]
  },
  {
   "cell_type": "code",
   "execution_count": 2,
   "metadata": {},
   "outputs": [
    {
     "name": "stdout",
     "output_type": "stream",
     "text": [
      "Message chiffré:   ndeavrnyiecge\n",
      "Message déchiffré: ensakhouribga\n"
     ]
    }
   ],
   "source": [
    "CLE = 'jqmalkzerwbaezrmjoiqr'\n",
    "encrypt = vernam_chiffrement('ensakhouribga', CLE, 'encrypt')\n",
    "decrypt = vernam_chiffrement(encrypt, CLE, 'decrypt')\n",
    "print(\"Message chiffré:   \" + encrypt)\n",
    "print(\"Message déchiffré: \" + decrypt)"
   ]
  }
 ],
 "metadata": {
  "kernelspec": {
   "display_name": "Python 3",
   "language": "python",
   "name": "python3"
  },
  "language_info": {
   "codemirror_mode": {
    "name": "ipython",
    "version": 3
   },
   "file_extension": ".py",
   "mimetype": "text/x-python",
   "name": "python",
   "nbconvert_exporter": "python",
   "pygments_lexer": "ipython3",
   "version": "3.8.5"
  }
 },
 "nbformat": 4,
 "nbformat_minor": 5
}

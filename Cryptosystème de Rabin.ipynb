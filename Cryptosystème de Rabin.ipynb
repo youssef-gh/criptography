{
 "cells": [
  {
   "cell_type": "markdown",
   "metadata": {},
   "source": [
    "# Cryptosystème de Rabin"
   ]
  },
  {
   "cell_type": "markdown",
   "metadata": {},
   "source": [
    "## Outils\n",
    "___"
   ]
  },
  {
   "cell_type": "markdown",
   "metadata": {},
   "source": [
    "### Génération des nombres premiers $p_i$  tq $p_i$ ≡ 3 [4]"
   ]
  },
  {
   "cell_type": "code",
   "execution_count": 1,
   "metadata": {},
   "outputs": [],
   "source": [
    "import math\n",
    "def isPrime(n):\n",
    "    if n < 2 or n == 4:\n",
    "        return False\n",
    "    end = int(math.sqrt(n))\n",
    "    if(end==2):\n",
    "        end += 1\n",
    "    for i in range(2, end):\n",
    "        if n % i == 0:\n",
    "            return False\n",
    "    return True\n",
    "\n",
    "arr = [i for i in range(150,200) if isPrime(i) and i%4==3] \n",
    "arr"
   ]
  },
  {
   "cell_type": "markdown",
   "metadata": {},
   "source": [
    "### Bezout"
   ]
  },
  {
   "cell_type": "code",
   "execution_count": 2,
   "metadata": {},
   "outputs": [],
   "source": [
    "def bezout(a, b):\n",
    "    u, v, uu, vv = 1, 0, 0, 1\n",
    "    while b:\n",
    "        q, rr = divmod(a, b)\n",
    "        a, b = b, rr\n",
    "        u, uu = uu, u - q*uu\n",
    "        v, vv = vv, v - q*vv\n",
    "        \n",
    "    return u, v"
   ]
  },
  {
   "cell_type": "markdown",
   "metadata": {},
   "source": [
    "### [Remplissage](https://stringfixer.com/fr/Padding_(cryptography\\))"
   ]
  },
  {
   "cell_type": "code",
   "execution_count": 3,
   "metadata": {},
   "outputs": [],
   "source": [
    "def ajouter_remplissage(n):\n",
    "    binaire = bin(n)[2:]\n",
    "    binaire = binaire + binaire\n",
    "    return int(binaire, 2)\n",
    "\n",
    "def verifier_remplissage(n):\n",
    "    binaire = bin(n)[2:]\n",
    "    length = len(binaire)\n",
    "    if binaire[length//2:] == binaire[:length//2]:\n",
    "        return True\n",
    "    return False\n",
    "\n",
    "def supp_remplissage(n):\n",
    "    binaire = bin(n)[2:]\n",
    "    length = len(binaire)\n",
    "    binaire = binaire[length//2:]\n",
    "    return int(binaire,2)"
   ]
  },
  {
   "cell_type": "markdown",
   "metadata": {},
   "source": [
    "## Code Principale\n",
    "_________________"
   ]
  },
  {
   "cell_type": "code",
   "execution_count": 4,
   "metadata": {},
   "outputs": [],
   "source": [
    "def chiffrer(text_clair, n):\n",
    "    c = []\n",
    "    for char in text_clair:\n",
    "        char_ascii = ord(char)\n",
    "#         char_ascii = ajouter_remplissage(char_ascii)\n",
    "        int_encrypted = (char_ascii ** 2) % n\n",
    "        c.append(chr(int_encrypted))\n",
    "    return c\n",
    "\n",
    "def dechiffrer(cypher, p, q):\n",
    "    res = []\n",
    "    n = p*q\n",
    "    for char in cypher:\n",
    "        mp = ord(char)** int(((p + 1) / 4)) % p\n",
    "        mq = ord(char)** int(((q + 1) / 4)) % q\n",
    "\n",
    "        yp, yq = bezout(p, q)\n",
    "\n",
    "        r = (yp*p*mq + yq*q*mp) % n\n",
    "        r2 = n - r\n",
    "        s = (yp*p*mq - yq*q*mp) % n\n",
    "        s2 = n - s\n",
    "        to_add = [r, r2, s, s2]\n",
    "                \n",
    "        #-------------------------------------------\n",
    "#         to_add = list(filter(verifier_remplissage, to_add))\n",
    "#         to_add = list(map(supp_remplissage, to_add))\n",
    "        #-------------------------------------------\n",
    "        to_add = list(map(lambda x:chr(x), to_add))\n",
    "        res.append(to_add)\n",
    "    return res"
   ]
  },
  {
   "cell_type": "code",
   "execution_count": 5,
   "metadata": {},
   "outputs": [
    {
     "name": "stdout",
     "output_type": "stream",
     "text": [
      "p = 179, q = 199, n = p x q = 35621\n",
      "M = \"ensa\"\n",
      "--------------------------------------------------\n",
      "Message chiffrée\n",
      "['⟙', '⽄', '㎩', 'Ⓛ']\n",
      "--------------------------------------------------\n",
      "Message dechiffrée\n",
      "['ᕟ', '痆', '諀', 'e']\n",
      "['ࠟ', '茆', '誷', 'n']\n",
      "['㴕', '丐', 's', '課']\n",
      "['諄', 'a', '梐', '⊕']\n",
      "--------------------------------------------------\n"
     ]
    }
   ],
   "source": [
    "# TEST\n",
    "# CONDITION: n > ajouter_remplissage(127)\n",
    "# i.e. n > 16383\n",
    "p, q = 179, 199\n",
    "n = p * q\n",
    "M = \"ensa\"\n",
    "print(f\"p = {p}, q = {q}, n = p x q = {n}\")\n",
    "print(f'M = \"{M}\"')\n",
    "print(\"-\"*50)\n",
    "\n",
    "message_chiffre = chiffrer(M, n)\n",
    "print(\"Message chiffrée\")\n",
    "print(message_chiffre)\n",
    "print(\"-\"*50)\n",
    "\n",
    "print(\"Message dechiffrée\")\n",
    "message_dechiffre = dechiffrer(message_chiffre, p, q)\n",
    "for item in message_dechiffre:\n",
    "    print(item)\n",
    "print(\"-\"*50)"
   ]
  }
 ],
 "metadata": {
  "kernelspec": {
   "display_name": "Python 3",
   "language": "python",
   "name": "python3"
  },
  "language_info": {
   "codemirror_mode": {
    "name": "ipython",
    "version": 3
   },
   "file_extension": ".py",
   "mimetype": "text/x-python",
   "name": "python",
   "nbconvert_exporter": "python",
   "pygments_lexer": "ipython3",
   "version": "3.8.5"
  }
 },
 "nbformat": 4,
 "nbformat_minor": 4
}

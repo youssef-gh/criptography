{
 "cells": [
  {
   "cell_type": "markdown",
   "metadata": {},
   "source": [
    "# Hill"
   ]
  },
  {
   "cell_type": "code",
   "execution_count": 1,
   "metadata": {},
   "outputs": [],
   "source": [
    "import string\n",
    "import numpy as np\n",
    "from sympy import Matrix #inverse key\n",
    "\n",
    "def letterToNumber(letter):\n",
    "        return string.ascii_lowercase.index(letter)\n",
    "\n",
    "def numberToLetter(number):\n",
    "    return chr(int(number) + 97)\n",
    "\n",
    "module = 26 #alphabets\n",
    "\n",
    "def hill(raw_message, key, type = \"encrypt\"):\n",
    "    message = []\n",
    "\n",
    "    key_rows = key.shape[0]\n",
    "    key_columns = key.shape[1]\n",
    "\n",
    "    if type == \"encrypt\":\n",
    "        for i in range(0, len(raw_message)):\n",
    "                current_letter = raw_message[i:i+1].lower()\n",
    "                if current_letter != ' ':\n",
    "                    letter_index = letterToNumber(current_letter)\n",
    "                    message.append(letter_index)\n",
    "\n",
    "        #Le message doit être MULTIPLE de ligne de vecteurs\n",
    "        #sinon on ajoute la premier alphabet de message à la fin \n",
    "        if len(message) % key_rows != 0:\n",
    "            for i in range(0, len(message)):\n",
    "                message.append(message[i])\n",
    "                if len(message) % key_rows == 0:\n",
    "                    break\n",
    "\n",
    "        message = np.array(message)\n",
    "        message_length = message.shape[0]\n",
    "\n",
    "\n",
    "        #transformer le message array en matrice\n",
    "        message.resize(int(message_length/key_rows), key_rows)\n",
    "\n",
    "        encryption = np.matmul(message, key)\n",
    "        encryption = np.remainder(encryption, module)\n",
    "        encrypt_text = \"\"\n",
    "        for i in range(len(encryption)):\n",
    "            for j in range(len(encryption[i])):\n",
    "                encrypt_text = encrypt_text + numberToLetter(encryption[i][j])\n",
    "        return encrypt_text\n",
    "\n",
    "    if type == \"decrypt\":\n",
    "        arr = []\n",
    "        for i in raw_message:\n",
    "            arr.append((letterToNumber(i)) % 26)\n",
    "        arr = np.array(arr).reshape(-1,3)\n",
    "\n",
    "        inverse_key = Matrix(key).inv_mod(module)\n",
    "        inverse_key = np.array(inverse_key) #sympy to numpy\n",
    "        inverse_key = inverse_key.astype(float)\n",
    "\n",
    "        print(\"decryption:\")\n",
    "        decryption = np.matmul(arr, inverse_key)\n",
    "        decryption = np.remainder(decryption, module).flatten()\n",
    "        # print(\"decryption: \",decryption)\n",
    "\n",
    "        decrypted_message = \"\".join(list(map(numberToLetter, decryption)))\n",
    "        return decrypted_message"
   ]
  },
  {
   "cell_type": "markdown",
   "metadata": {},
   "source": [
    "# Test du chiffrement de vigenère"
   ]
  },
  {
   "cell_type": "code",
   "execution_count": 2,
   "metadata": {},
   "outputs": [
    {
     "name": "stdout",
     "output_type": "stream",
     "text": [
      "decryption:\n",
      "Message chiffré:   svjdodxyzujtpkd\n",
      "Message déchiffré: ensakhouribgaen\n"
     ]
    }
   ],
   "source": [
    "key = np.array([\n",
    "    [3, 10, 20], \n",
    "    [20, 9, 17],\n",
    "    [9, 4, 17]\n",
    "])\n",
    "\n",
    "# key = np.array([\n",
    "#   [3, 5], \n",
    "#   [6, 17]\n",
    "# ])\n",
    "\n",
    "encrypt = hill('ensakhouribga', key, 'encrypt')\n",
    "decrypt = hill(encrypt, key, 'decrypt')\n",
    "print(\"Message chiffré:   \" + encrypt)\n",
    "print(\"Message déchiffré: \" + decrypt)"
   ]
  }
 ],
 "metadata": {
  "kernelspec": {
   "display_name": "Python 3",
   "language": "python",
   "name": "python3"
  },
  "language_info": {
   "codemirror_mode": {
    "name": "ipython",
    "version": 3
   },
   "file_extension": ".py",
   "mimetype": "text/x-python",
   "name": "python",
   "nbconvert_exporter": "python",
   "pygments_lexer": "ipython3",
   "version": "3.8.5"
  }
 },
 "nbformat": 4,
 "nbformat_minor": 5
}
